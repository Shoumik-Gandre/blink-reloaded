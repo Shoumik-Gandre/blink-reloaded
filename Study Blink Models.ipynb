{
 "cells": [
  {
   "cell_type": "code",
   "execution_count": 1,
   "metadata": {},
   "outputs": [],
   "source": [
    "%load_ext autoreload\n",
    "%autoreload 2"
   ]
  },
  {
   "cell_type": "code",
   "execution_count": 2,
   "metadata": {},
   "outputs": [],
   "source": [
    "import json\n",
    "\n",
    "from blink2.biencoder.bert import BiEncoderRankerParams, BiEncoderRanker\n",
    "\n",
    "\n",
    "with open('models\\\\biencoder_wiki_large.json') as f: \n",
    "    params = json.load(f)\n",
    "\n",
    "params = params | {\n",
    "    'add_linear': True,\n",
    "    'out_dim': 300,\n",
    "    'path_to_model': r'D:\\projects\\blink-reloaded\\models\\biencoder_wiki_large.bin'\n",
    "}"
   ]
  },
  {
   "cell_type": "code",
   "execution_count": 10,
   "metadata": {},
   "outputs": [
    {
     "data": {
      "text/plain": [
       "{'data_path': '',\n",
       " 'bert_model': 'bert-large-uncased',\n",
       " 'model_output_path': None,\n",
       " 'context_key': 'context',\n",
       " 'lowercase': True,\n",
       " 'top_k': 10,\n",
       " 'max_seq_length': 256,\n",
       " 'evaluate': False,\n",
       " 'evaluate_with_pregenerated_candidates': False,\n",
       " 'output_eval_file': None,\n",
       " 'debug': False,\n",
       " 'silent': False,\n",
       " 'train_batch_size': 8,\n",
       " 'eval_batch_size': 8,\n",
       " 'data_parallel': False,\n",
       " 'max_grad_norm': 1.0,\n",
       " 'learning_rate': 3e-05,\n",
       " 'num_train_epochs': 1,\n",
       " 'print_interval': 5,\n",
       " 'eval_interval': 40,\n",
       " 'save_interval': 1,\n",
       " 'warmup_proportion': 0.1,\n",
       " 'no_cuda': True,\n",
       " 'seed': 52313,\n",
       " 'gradient_accumulation_steps': 1,\n",
       " 'out_dim': 300,\n",
       " 'pull_from_layer': -1,\n",
       " 'type_optimization': 'all_encoder_layers',\n",
       " 'add_linear': True,\n",
       " 'shuffle': False,\n",
       " 'encode_batch_size': 8,\n",
       " 'max_context_length': 32,\n",
       " 'max_cand_length': 128,\n",
       " 'path_to_model': 'D:\\\\projects\\\\blink-reloaded\\\\models\\\\biencoder_wiki_large.bin'}"
      ]
     },
     "execution_count": 10,
     "metadata": {},
     "output_type": "execute_result"
    }
   ],
   "source": [
    "BiEncoderRankerParams(**params)"
   ]
  },
  {
   "cell_type": "code",
   "execution_count": 6,
   "metadata": {},
   "outputs": [
    {
     "name": "stdout",
     "output_type": "stream",
     "text": [
      "Layer added\n",
      "Layer added\n"
     ]
    }
   ],
   "source": [
    "models = BiEncoderRanker(params)"
   ]
  },
  {
   "cell_type": "markdown",
   "metadata": {},
   "source": [
    "# Cross Encoder"
   ]
  },
  {
   "cell_type": "code",
   "execution_count": 2,
   "metadata": {},
   "outputs": [],
   "source": [
    "from blink.application.main_utils import load_crossencoder_ranker\n",
    "\n",
    "\n",
    "crossencoder = load_crossencoder_ranker(\n",
    "    \"models/crossencoder_wiki_large.bin\", \n",
    "    \"models/crossencoder_wiki_large.json\"\n",
    ")"
   ]
  },
  {
   "cell_type": "code",
   "execution_count": 9,
   "metadata": {},
   "outputs": [
    {
     "data": {
      "text/plain": [
       "BertEncoder(\n",
       "  (bert_model): BertModel(\n",
       "    (embeddings): BertEmbeddings(\n",
       "      (word_embeddings): Embedding(30522, 1024, padding_idx=0)\n",
       "      (position_embeddings): Embedding(512, 1024)\n",
       "      (token_type_embeddings): Embedding(2, 1024)\n",
       "      (LayerNorm): LayerNorm((1024,), eps=1e-12, elementwise_affine=True)\n",
       "      (dropout): Dropout(p=0.1, inplace=False)\n",
       "    )\n",
       "    (encoder): BertEncoder(\n",
       "      (layer): ModuleList(\n",
       "        (0-23): 24 x BertLayer(\n",
       "          (attention): BertAttention(\n",
       "            (self): BertSdpaSelfAttention(\n",
       "              (query): Linear(in_features=1024, out_features=1024, bias=True)\n",
       "              (key): Linear(in_features=1024, out_features=1024, bias=True)\n",
       "              (value): Linear(in_features=1024, out_features=1024, bias=True)\n",
       "              (dropout): Dropout(p=0.1, inplace=False)\n",
       "            )\n",
       "            (output): BertSelfOutput(\n",
       "              (dense): Linear(in_features=1024, out_features=1024, bias=True)\n",
       "              (LayerNorm): LayerNorm((1024,), eps=1e-12, elementwise_affine=True)\n",
       "              (dropout): Dropout(p=0.1, inplace=False)\n",
       "            )\n",
       "          )\n",
       "          (intermediate): BertIntermediate(\n",
       "            (dense): Linear(in_features=1024, out_features=4096, bias=True)\n",
       "            (intermediate_act_fn): GELUActivation()\n",
       "          )\n",
       "          (output): BertOutput(\n",
       "            (dense): Linear(in_features=4096, out_features=1024, bias=True)\n",
       "            (LayerNorm): LayerNorm((1024,), eps=1e-12, elementwise_affine=True)\n",
       "            (dropout): Dropout(p=0.1, inplace=False)\n",
       "          )\n",
       "        )\n",
       "      )\n",
       "    )\n",
       "    (pooler): BertPooler(\n",
       "      (dense): Linear(in_features=1024, out_features=1024, bias=True)\n",
       "      (activation): Tanh()\n",
       "    )\n",
       "  )\n",
       "  (additional_linear): Linear(in_features=1024, out_features=1, bias=True)\n",
       "  (dropout): Dropout(p=0.1, inplace=False)\n",
       ")"
      ]
     },
     "execution_count": 9,
     "metadata": {},
     "output_type": "execute_result"
    }
   ],
   "source": [
    "crossencoder.model.encoder"
   ]
  },
  {
   "cell_type": "code",
   "execution_count": null,
   "metadata": {},
   "outputs": [],
   "source": []
  }
 ],
 "metadata": {
  "kernelspec": {
   "display_name": "main",
   "language": "python",
   "name": "python3"
  },
  "language_info": {
   "codemirror_mode": {
    "name": "ipython",
    "version": 3
   },
   "file_extension": ".py",
   "mimetype": "text/x-python",
   "name": "python",
   "nbconvert_exporter": "python",
   "pygments_lexer": "ipython3",
   "version": "3.10.14"
  }
 },
 "nbformat": 4,
 "nbformat_minor": 2
}
